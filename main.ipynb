{
 "cells": [
  {
   "cell_type": "markdown",
   "id": "681dec8a",
   "metadata": {
    "papermill": {
     "duration": 0.004899,
     "end_time": "2025-08-06T18:07:10.992110",
     "exception": false,
     "start_time": "2025-08-06T18:07:10.987211",
     "status": "completed"
    },
    "tags": []
   },
   "source": [
    "# Reading data and loading"
   ]
  },
  {
   "cell_type": "code",
   "execution_count": 1,
   "id": "8bddcb36",
   "metadata": {
    "execution": {
     "iopub.execute_input": "2025-08-06T18:07:11.000639Z",
     "iopub.status.busy": "2025-08-06T18:07:11.000273Z",
     "iopub.status.idle": "2025-08-06T18:07:13.472038Z",
     "shell.execute_reply": "2025-08-06T18:07:13.470798Z"
    },
    "papermill": {
     "duration": 2.478199,
     "end_time": "2025-08-06T18:07:13.474117",
     "exception": false,
     "start_time": "2025-08-06T18:07:10.995918",
     "status": "completed"
    },
    "tags": []
   },
   "outputs": [],
   "source": [
    "import numpy as np # linear algebra\n",
    "import pandas as pd # data processing, CSV file I/O (e.g. pd.read_csv)\n",
    "\n",
    "df = pd.read_csv('/kaggle/input/weather-data/Project 1 - Weather Dataset.csv')"
   ]
  },
  {
   "cell_type": "code",
   "execution_count": 2,
   "id": "4b220e3f",
   "metadata": {
    "execution": {
     "iopub.execute_input": "2025-08-06T18:07:13.481940Z",
     "iopub.status.busy": "2025-08-06T18:07:13.481613Z",
     "iopub.status.idle": "2025-08-06T18:07:13.490408Z",
     "shell.execute_reply": "2025-08-06T18:07:13.489272Z"
    },
    "papermill": {
     "duration": 0.014553,
     "end_time": "2025-08-06T18:07:13.492104",
     "exception": false,
     "start_time": "2025-08-06T18:07:13.477551",
     "status": "completed"
    },
    "tags": []
   },
   "outputs": [
    {
     "data": {
      "text/plain": [
       "Index(['Date/Time', 'Temp_C', 'Dew Point Temp_C', 'Rel Hum_%',\n",
       "       'Wind Speed_km/h', 'Visibility_km', 'Press_kPa', 'Weather'],\n",
       "      dtype='object')"
      ]
     },
     "execution_count": 2,
     "metadata": {},
     "output_type": "execute_result"
    }
   ],
   "source": [
    "df.columns"
   ]
  },
  {
   "cell_type": "code",
   "execution_count": 3,
   "id": "248fdd90",
   "metadata": {
    "execution": {
     "iopub.execute_input": "2025-08-06T18:07:13.500078Z",
     "iopub.status.busy": "2025-08-06T18:07:13.499685Z",
     "iopub.status.idle": "2025-08-06T18:07:13.533435Z",
     "shell.execute_reply": "2025-08-06T18:07:13.532352Z"
    },
    "papermill": {
     "duration": 0.039417,
     "end_time": "2025-08-06T18:07:13.534939",
     "exception": false,
     "start_time": "2025-08-06T18:07:13.495522",
     "status": "completed"
    },
    "tags": []
   },
   "outputs": [
    {
     "data": {
      "text/html": [
       "<div>\n",
       "<style scoped>\n",
       "    .dataframe tbody tr th:only-of-type {\n",
       "        vertical-align: middle;\n",
       "    }\n",
       "\n",
       "    .dataframe tbody tr th {\n",
       "        vertical-align: top;\n",
       "    }\n",
       "\n",
       "    .dataframe thead th {\n",
       "        text-align: right;\n",
       "    }\n",
       "</style>\n",
       "<table border=\"1\" class=\"dataframe\">\n",
       "  <thead>\n",
       "    <tr style=\"text-align: right;\">\n",
       "      <th></th>\n",
       "      <th>Date/Time</th>\n",
       "      <th>Temp_C</th>\n",
       "      <th>Dew Point Temp_C</th>\n",
       "      <th>Rel Hum_%</th>\n",
       "      <th>Wind Speed_km/h</th>\n",
       "      <th>Visibility_km</th>\n",
       "      <th>Press_kPa</th>\n",
       "      <th>Weather</th>\n",
       "    </tr>\n",
       "  </thead>\n",
       "  <tbody>\n",
       "    <tr>\n",
       "      <th>0</th>\n",
       "      <td>1/1/2012 0:00</td>\n",
       "      <td>-1.8</td>\n",
       "      <td>-3.9</td>\n",
       "      <td>86</td>\n",
       "      <td>4</td>\n",
       "      <td>8.0</td>\n",
       "      <td>101.24</td>\n",
       "      <td>Fog</td>\n",
       "    </tr>\n",
       "    <tr>\n",
       "      <th>1</th>\n",
       "      <td>1/1/2012 1:00</td>\n",
       "      <td>-1.8</td>\n",
       "      <td>-3.7</td>\n",
       "      <td>87</td>\n",
       "      <td>4</td>\n",
       "      <td>8.0</td>\n",
       "      <td>101.24</td>\n",
       "      <td>Fog</td>\n",
       "    </tr>\n",
       "    <tr>\n",
       "      <th>2</th>\n",
       "      <td>1/1/2012 2:00</td>\n",
       "      <td>-1.8</td>\n",
       "      <td>-3.4</td>\n",
       "      <td>89</td>\n",
       "      <td>7</td>\n",
       "      <td>4.0</td>\n",
       "      <td>101.26</td>\n",
       "      <td>Freezing Drizzle,Fog</td>\n",
       "    </tr>\n",
       "    <tr>\n",
       "      <th>3</th>\n",
       "      <td>1/1/2012 3:00</td>\n",
       "      <td>-1.5</td>\n",
       "      <td>-3.2</td>\n",
       "      <td>88</td>\n",
       "      <td>6</td>\n",
       "      <td>4.0</td>\n",
       "      <td>101.27</td>\n",
       "      <td>Freezing Drizzle,Fog</td>\n",
       "    </tr>\n",
       "    <tr>\n",
       "      <th>4</th>\n",
       "      <td>1/1/2012 4:00</td>\n",
       "      <td>-1.5</td>\n",
       "      <td>-3.3</td>\n",
       "      <td>88</td>\n",
       "      <td>7</td>\n",
       "      <td>4.8</td>\n",
       "      <td>101.23</td>\n",
       "      <td>Fog</td>\n",
       "    </tr>\n",
       "    <tr>\n",
       "      <th>5</th>\n",
       "      <td>1/1/2012 5:00</td>\n",
       "      <td>-1.4</td>\n",
       "      <td>-3.3</td>\n",
       "      <td>87</td>\n",
       "      <td>9</td>\n",
       "      <td>6.4</td>\n",
       "      <td>101.27</td>\n",
       "      <td>Fog</td>\n",
       "    </tr>\n",
       "    <tr>\n",
       "      <th>6</th>\n",
       "      <td>1/1/2012 6:00</td>\n",
       "      <td>-1.5</td>\n",
       "      <td>-3.1</td>\n",
       "      <td>89</td>\n",
       "      <td>7</td>\n",
       "      <td>6.4</td>\n",
       "      <td>101.29</td>\n",
       "      <td>Fog</td>\n",
       "    </tr>\n",
       "    <tr>\n",
       "      <th>7</th>\n",
       "      <td>1/1/2012 7:00</td>\n",
       "      <td>-1.4</td>\n",
       "      <td>-3.6</td>\n",
       "      <td>85</td>\n",
       "      <td>7</td>\n",
       "      <td>8.0</td>\n",
       "      <td>101.26</td>\n",
       "      <td>Fog</td>\n",
       "    </tr>\n",
       "    <tr>\n",
       "      <th>8</th>\n",
       "      <td>1/1/2012 8:00</td>\n",
       "      <td>-1.4</td>\n",
       "      <td>-3.6</td>\n",
       "      <td>85</td>\n",
       "      <td>9</td>\n",
       "      <td>8.0</td>\n",
       "      <td>101.23</td>\n",
       "      <td>Fog</td>\n",
       "    </tr>\n",
       "    <tr>\n",
       "      <th>9</th>\n",
       "      <td>1/1/2012 9:00</td>\n",
       "      <td>-1.3</td>\n",
       "      <td>-3.1</td>\n",
       "      <td>88</td>\n",
       "      <td>15</td>\n",
       "      <td>4.0</td>\n",
       "      <td>101.20</td>\n",
       "      <td>Fog</td>\n",
       "    </tr>\n",
       "  </tbody>\n",
       "</table>\n",
       "</div>"
      ],
      "text/plain": [
       "       Date/Time  Temp_C  Dew Point Temp_C  Rel Hum_%  Wind Speed_km/h  \\\n",
       "0  1/1/2012 0:00    -1.8              -3.9         86                4   \n",
       "1  1/1/2012 1:00    -1.8              -3.7         87                4   \n",
       "2  1/1/2012 2:00    -1.8              -3.4         89                7   \n",
       "3  1/1/2012 3:00    -1.5              -3.2         88                6   \n",
       "4  1/1/2012 4:00    -1.5              -3.3         88                7   \n",
       "5  1/1/2012 5:00    -1.4              -3.3         87                9   \n",
       "6  1/1/2012 6:00    -1.5              -3.1         89                7   \n",
       "7  1/1/2012 7:00    -1.4              -3.6         85                7   \n",
       "8  1/1/2012 8:00    -1.4              -3.6         85                9   \n",
       "9  1/1/2012 9:00    -1.3              -3.1         88               15   \n",
       "\n",
       "   Visibility_km  Press_kPa               Weather  \n",
       "0            8.0     101.24                   Fog  \n",
       "1            8.0     101.24                   Fog  \n",
       "2            4.0     101.26  Freezing Drizzle,Fog  \n",
       "3            4.0     101.27  Freezing Drizzle,Fog  \n",
       "4            4.8     101.23                   Fog  \n",
       "5            6.4     101.27                   Fog  \n",
       "6            6.4     101.29                   Fog  \n",
       "7            8.0     101.26                   Fog  \n",
       "8            8.0     101.23                   Fog  \n",
       "9            4.0     101.20                   Fog  "
      ]
     },
     "execution_count": 3,
     "metadata": {},
     "output_type": "execute_result"
    }
   ],
   "source": [
    "df.head(10)"
   ]
  },
  {
   "cell_type": "code",
   "execution_count": 4,
   "id": "318e7977",
   "metadata": {
    "execution": {
     "iopub.execute_input": "2025-08-06T18:07:13.543466Z",
     "iopub.status.busy": "2025-08-06T18:07:13.543138Z",
     "iopub.status.idle": "2025-08-06T18:07:13.556781Z",
     "shell.execute_reply": "2025-08-06T18:07:13.555851Z"
    },
    "papermill": {
     "duration": 0.01962,
     "end_time": "2025-08-06T18:07:13.558344",
     "exception": false,
     "start_time": "2025-08-06T18:07:13.538724",
     "status": "completed"
    },
    "tags": []
   },
   "outputs": [
    {
     "data": {
      "text/html": [
       "<div>\n",
       "<style scoped>\n",
       "    .dataframe tbody tr th:only-of-type {\n",
       "        vertical-align: middle;\n",
       "    }\n",
       "\n",
       "    .dataframe tbody tr th {\n",
       "        vertical-align: top;\n",
       "    }\n",
       "\n",
       "    .dataframe thead th {\n",
       "        text-align: right;\n",
       "    }\n",
       "</style>\n",
       "<table border=\"1\" class=\"dataframe\">\n",
       "  <thead>\n",
       "    <tr style=\"text-align: right;\">\n",
       "      <th></th>\n",
       "      <th>Date/Time</th>\n",
       "      <th>Temp_C</th>\n",
       "      <th>Dew Point Temp_C</th>\n",
       "      <th>Rel Hum_%</th>\n",
       "      <th>Wind Speed_km/h</th>\n",
       "      <th>Visibility_km</th>\n",
       "      <th>Press_kPa</th>\n",
       "      <th>Weather</th>\n",
       "    </tr>\n",
       "  </thead>\n",
       "  <tbody>\n",
       "    <tr>\n",
       "      <th>8779</th>\n",
       "      <td>12/31/2012 19:00</td>\n",
       "      <td>0.1</td>\n",
       "      <td>-2.7</td>\n",
       "      <td>81</td>\n",
       "      <td>30</td>\n",
       "      <td>9.7</td>\n",
       "      <td>100.13</td>\n",
       "      <td>Snow</td>\n",
       "    </tr>\n",
       "    <tr>\n",
       "      <th>8780</th>\n",
       "      <td>12/31/2012 20:00</td>\n",
       "      <td>0.2</td>\n",
       "      <td>-2.4</td>\n",
       "      <td>83</td>\n",
       "      <td>24</td>\n",
       "      <td>9.7</td>\n",
       "      <td>100.03</td>\n",
       "      <td>Snow</td>\n",
       "    </tr>\n",
       "    <tr>\n",
       "      <th>8781</th>\n",
       "      <td>12/31/2012 21:00</td>\n",
       "      <td>-0.5</td>\n",
       "      <td>-1.5</td>\n",
       "      <td>93</td>\n",
       "      <td>28</td>\n",
       "      <td>4.8</td>\n",
       "      <td>99.95</td>\n",
       "      <td>Snow</td>\n",
       "    </tr>\n",
       "    <tr>\n",
       "      <th>8782</th>\n",
       "      <td>12/31/2012 22:00</td>\n",
       "      <td>-0.2</td>\n",
       "      <td>-1.8</td>\n",
       "      <td>89</td>\n",
       "      <td>28</td>\n",
       "      <td>9.7</td>\n",
       "      <td>99.91</td>\n",
       "      <td>Snow</td>\n",
       "    </tr>\n",
       "    <tr>\n",
       "      <th>8783</th>\n",
       "      <td>12/31/2012 23:00</td>\n",
       "      <td>0.0</td>\n",
       "      <td>-2.1</td>\n",
       "      <td>86</td>\n",
       "      <td>30</td>\n",
       "      <td>11.3</td>\n",
       "      <td>99.89</td>\n",
       "      <td>Snow</td>\n",
       "    </tr>\n",
       "  </tbody>\n",
       "</table>\n",
       "</div>"
      ],
      "text/plain": [
       "             Date/Time  Temp_C  Dew Point Temp_C  Rel Hum_%  Wind Speed_km/h  \\\n",
       "8779  12/31/2012 19:00     0.1              -2.7         81               30   \n",
       "8780  12/31/2012 20:00     0.2              -2.4         83               24   \n",
       "8781  12/31/2012 21:00    -0.5              -1.5         93               28   \n",
       "8782  12/31/2012 22:00    -0.2              -1.8         89               28   \n",
       "8783  12/31/2012 23:00     0.0              -2.1         86               30   \n",
       "\n",
       "      Visibility_km  Press_kPa Weather  \n",
       "8779            9.7     100.13    Snow  \n",
       "8780            9.7     100.03    Snow  \n",
       "8781            4.8      99.95    Snow  \n",
       "8782            9.7      99.91    Snow  \n",
       "8783           11.3      99.89    Snow  "
      ]
     },
     "execution_count": 4,
     "metadata": {},
     "output_type": "execute_result"
    }
   ],
   "source": [
    "df.tail(5)"
   ]
  },
  {
   "cell_type": "markdown",
   "id": "75d420a9",
   "metadata": {
    "papermill": {
     "duration": 0.003222,
     "end_time": "2025-08-06T18:07:13.565494",
     "exception": false,
     "start_time": "2025-08-06T18:07:13.562272",
     "status": "completed"
    },
    "tags": []
   },
   "source": [
    "* So in this dataset, we don't have any seasonal cycle.(One year and only four season)"
   ]
  },
  {
   "cell_type": "code",
   "execution_count": 5,
   "id": "e7bfdabc",
   "metadata": {
    "execution": {
     "iopub.execute_input": "2025-08-06T18:07:13.573373Z",
     "iopub.status.busy": "2025-08-06T18:07:13.573086Z",
     "iopub.status.idle": "2025-08-06T18:07:13.578601Z",
     "shell.execute_reply": "2025-08-06T18:07:13.577764Z"
    },
    "papermill": {
     "duration": 0.011376,
     "end_time": "2025-08-06T18:07:13.580311",
     "exception": false,
     "start_time": "2025-08-06T18:07:13.568935",
     "status": "completed"
    },
    "tags": []
   },
   "outputs": [
    {
     "data": {
      "text/plain": [
       "(8784, 8)"
      ]
     },
     "execution_count": 5,
     "metadata": {},
     "output_type": "execute_result"
    }
   ],
   "source": [
    "df.shape"
   ]
  },
  {
   "cell_type": "markdown",
   "id": "08df8fe7",
   "metadata": {
    "papermill": {
     "duration": 0.003363,
     "end_time": "2025-08-06T18:07:13.587553",
     "exception": false,
     "start_time": "2025-08-06T18:07:13.584190",
     "status": "completed"
    },
    "tags": []
   },
   "source": [
    "# handling uncommon data"
   ]
  },
  {
   "cell_type": "markdown",
   "id": "e0e0a723",
   "metadata": {
    "papermill": {
     "duration": 0.003381,
     "end_time": "2025-08-06T18:07:13.594842",
     "exception": false,
     "start_time": "2025-08-06T18:07:13.591461",
     "status": "completed"
    },
    "tags": []
   },
   "source": [
    "* We only have one categorical column, and that is weather.\n",
    "* In most classification problems, the target is weather. That's what we are gonna do. \n",
    "  "
   ]
  },
  {
   "cell_type": "code",
   "execution_count": 6,
   "id": "b5dd78f5",
   "metadata": {
    "execution": {
     "iopub.execute_input": "2025-08-06T18:07:13.603487Z",
     "iopub.status.busy": "2025-08-06T18:07:13.602876Z",
     "iopub.status.idle": "2025-08-06T18:07:13.648508Z",
     "shell.execute_reply": "2025-08-06T18:07:13.647411Z"
    },
    "papermill": {
     "duration": 0.051717,
     "end_time": "2025-08-06T18:07:13.650160",
     "exception": false,
     "start_time": "2025-08-06T18:07:13.598443",
     "status": "completed"
    },
    "tags": []
   },
   "outputs": [],
   "source": [
    "\n",
    "df['Date/Time'] = pd.to_datetime(df['Date/Time'])\n",
    "df['hour'] = df['Date/Time'].dt.hour\n",
    "df['month'] = df['Date/Time'].dt.month\n",
    "df['day'] = df['Date/Time'].dt.day\n",
    "df['dayofweek'] = df['Date/Time'].dt.dayofweek  # 0=Monday\n"
   ]
  },
  {
   "cell_type": "markdown",
   "id": "bb5eff95",
   "metadata": {
    "papermill": {
     "duration": 0.003349,
     "end_time": "2025-08-06T18:07:13.657299",
     "exception": false,
     "start_time": "2025-08-06T18:07:13.653950",
     "status": "completed"
    },
    "tags": []
   },
   "source": [
    "I made this to check the correlation, and if it was important, I would try to use it in my model. Of course, in this kind of dataset, season is the most crucial item. But we need to be sure about data leakage. "
   ]
  },
  {
   "cell_type": "code",
   "execution_count": 7,
   "id": "7bd2f35f",
   "metadata": {
    "execution": {
     "iopub.execute_input": "2025-08-06T18:07:13.666579Z",
     "iopub.status.busy": "2025-08-06T18:07:13.666222Z",
     "iopub.status.idle": "2025-08-06T18:07:13.676329Z",
     "shell.execute_reply": "2025-08-06T18:07:13.675238Z"
    },
    "papermill": {
     "duration": 0.016192,
     "end_time": "2025-08-06T18:07:13.677934",
     "exception": false,
     "start_time": "2025-08-06T18:07:13.661742",
     "status": "completed"
    },
    "tags": []
   },
   "outputs": [
    {
     "name": "stdout",
     "output_type": "stream",
     "text": [
      "['Fog' 'Freezing Drizzle,Fog' 'Mostly Cloudy' 'Cloudy' 'Rain'\n",
      " 'Rain Showers' 'Mainly Clear' 'Snow Showers' 'Snow' 'Clear'\n",
      " 'Freezing Rain,Fog' 'Freezing Rain' 'Freezing Drizzle' 'Rain,Snow'\n",
      " 'Moderate Snow' 'Freezing Drizzle,Snow' 'Freezing Rain,Snow Grains'\n",
      " 'Snow,Blowing Snow' 'Freezing Fog' 'Haze' 'Rain,Fog' 'Drizzle,Fog'\n",
      " 'Drizzle' 'Freezing Drizzle,Haze' 'Freezing Rain,Haze' 'Snow,Haze'\n",
      " 'Snow,Fog' 'Snow,Ice Pellets' 'Rain,Haze' 'Thunderstorms,Rain'\n",
      " 'Thunderstorms,Rain Showers' 'Thunderstorms,Heavy Rain Showers'\n",
      " 'Thunderstorms,Rain Showers,Fog' 'Thunderstorms' 'Thunderstorms,Rain,Fog'\n",
      " 'Thunderstorms,Moderate Rain Showers,Fog' 'Rain Showers,Fog'\n",
      " 'Rain Showers,Snow Showers' 'Snow Pellets' 'Rain,Snow,Fog'\n",
      " 'Moderate Rain,Fog' 'Freezing Rain,Ice Pellets,Fog'\n",
      " 'Drizzle,Ice Pellets,Fog' 'Drizzle,Snow' 'Rain,Ice Pellets'\n",
      " 'Drizzle,Snow,Fog' 'Rain,Snow Grains' 'Rain,Snow,Ice Pellets'\n",
      " 'Snow Showers,Fog' 'Moderate Snow,Blowing Snow']\n"
     ]
    }
   ],
   "source": [
    "unique_weather = df['Weather'].unique()\n",
    "print(unique_weather)"
   ]
  },
  {
   "cell_type": "markdown",
   "id": "59063178",
   "metadata": {
    "papermill": {
     "duration": 0.003383,
     "end_time": "2025-08-06T18:07:13.685137",
     "exception": false,
     "start_time": "2025-08-06T18:07:13.681754",
     "status": "completed"
    },
    "tags": []
   },
   "source": [
    "# Multi-Label Binarization "
   ]
  },
  {
   "cell_type": "code",
   "execution_count": 8,
   "id": "cf707222",
   "metadata": {
    "execution": {
     "iopub.execute_input": "2025-08-06T18:07:13.694246Z",
     "iopub.status.busy": "2025-08-06T18:07:13.693234Z",
     "iopub.status.idle": "2025-08-06T18:07:15.769290Z",
     "shell.execute_reply": "2025-08-06T18:07:15.767960Z"
    },
    "papermill": {
     "duration": 2.082433,
     "end_time": "2025-08-06T18:07:15.771188",
     "exception": false,
     "start_time": "2025-08-06T18:07:13.688755",
     "status": "completed"
    },
    "tags": []
   },
   "outputs": [],
   "source": [
    "from sklearn.preprocessing import MultiLabelBinarizer\n",
    "df['Weather_multi'] = df['Weather'].str.split(',') \n",
    "mlb = MultiLabelBinarizer()\n",
    "multi_weather = pd.DataFrame(mlb.fit_transform(df['Weather_multi']), columns=mlb.classes_, index=df.index)\n",
    "df = pd.concat([df, multi_weather], axis=1)\n"
   ]
  },
  {
   "cell_type": "code",
   "execution_count": 9,
   "id": "448f9736",
   "metadata": {
    "execution": {
     "iopub.execute_input": "2025-08-06T18:07:15.780139Z",
     "iopub.status.busy": "2025-08-06T18:07:15.779639Z",
     "iopub.status.idle": "2025-08-06T18:07:15.807080Z",
     "shell.execute_reply": "2025-08-06T18:07:15.806020Z"
    },
    "papermill": {
     "duration": 0.034051,
     "end_time": "2025-08-06T18:07:15.808977",
     "exception": false,
     "start_time": "2025-08-06T18:07:15.774926",
     "status": "completed"
    },
    "tags": []
   },
   "outputs": [
    {
     "data": {
      "text/html": [
       "<div>\n",
       "<style scoped>\n",
       "    .dataframe tbody tr th:only-of-type {\n",
       "        vertical-align: middle;\n",
       "    }\n",
       "\n",
       "    .dataframe tbody tr th {\n",
       "        vertical-align: top;\n",
       "    }\n",
       "\n",
       "    .dataframe thead th {\n",
       "        text-align: right;\n",
       "    }\n",
       "</style>\n",
       "<table border=\"1\" class=\"dataframe\">\n",
       "  <thead>\n",
       "    <tr style=\"text-align: right;\">\n",
       "      <th></th>\n",
       "      <th>Date/Time</th>\n",
       "      <th>Temp_C</th>\n",
       "      <th>Dew Point Temp_C</th>\n",
       "      <th>Rel Hum_%</th>\n",
       "      <th>Wind Speed_km/h</th>\n",
       "      <th>Visibility_km</th>\n",
       "      <th>Press_kPa</th>\n",
       "      <th>Weather</th>\n",
       "      <th>hour</th>\n",
       "      <th>month</th>\n",
       "      <th>...</th>\n",
       "      <th>Moderate Rain Showers</th>\n",
       "      <th>Moderate Snow</th>\n",
       "      <th>Mostly Cloudy</th>\n",
       "      <th>Rain</th>\n",
       "      <th>Rain Showers</th>\n",
       "      <th>Snow</th>\n",
       "      <th>Snow Grains</th>\n",
       "      <th>Snow Pellets</th>\n",
       "      <th>Snow Showers</th>\n",
       "      <th>Thunderstorms</th>\n",
       "    </tr>\n",
       "  </thead>\n",
       "  <tbody>\n",
       "    <tr>\n",
       "      <th>0</th>\n",
       "      <td>2012-01-01 00:00:00</td>\n",
       "      <td>-1.8</td>\n",
       "      <td>-3.9</td>\n",
       "      <td>86</td>\n",
       "      <td>4</td>\n",
       "      <td>8.0</td>\n",
       "      <td>101.24</td>\n",
       "      <td>Fog</td>\n",
       "      <td>0</td>\n",
       "      <td>1</td>\n",
       "      <td>...</td>\n",
       "      <td>0</td>\n",
       "      <td>0</td>\n",
       "      <td>0</td>\n",
       "      <td>0</td>\n",
       "      <td>0</td>\n",
       "      <td>0</td>\n",
       "      <td>0</td>\n",
       "      <td>0</td>\n",
       "      <td>0</td>\n",
       "      <td>0</td>\n",
       "    </tr>\n",
       "    <tr>\n",
       "      <th>1</th>\n",
       "      <td>2012-01-01 01:00:00</td>\n",
       "      <td>-1.8</td>\n",
       "      <td>-3.7</td>\n",
       "      <td>87</td>\n",
       "      <td>4</td>\n",
       "      <td>8.0</td>\n",
       "      <td>101.24</td>\n",
       "      <td>Fog</td>\n",
       "      <td>1</td>\n",
       "      <td>1</td>\n",
       "      <td>...</td>\n",
       "      <td>0</td>\n",
       "      <td>0</td>\n",
       "      <td>0</td>\n",
       "      <td>0</td>\n",
       "      <td>0</td>\n",
       "      <td>0</td>\n",
       "      <td>0</td>\n",
       "      <td>0</td>\n",
       "      <td>0</td>\n",
       "      <td>0</td>\n",
       "    </tr>\n",
       "    <tr>\n",
       "      <th>2</th>\n",
       "      <td>2012-01-01 02:00:00</td>\n",
       "      <td>-1.8</td>\n",
       "      <td>-3.4</td>\n",
       "      <td>89</td>\n",
       "      <td>7</td>\n",
       "      <td>4.0</td>\n",
       "      <td>101.26</td>\n",
       "      <td>Freezing Drizzle,Fog</td>\n",
       "      <td>2</td>\n",
       "      <td>1</td>\n",
       "      <td>...</td>\n",
       "      <td>0</td>\n",
       "      <td>0</td>\n",
       "      <td>0</td>\n",
       "      <td>0</td>\n",
       "      <td>0</td>\n",
       "      <td>0</td>\n",
       "      <td>0</td>\n",
       "      <td>0</td>\n",
       "      <td>0</td>\n",
       "      <td>0</td>\n",
       "    </tr>\n",
       "    <tr>\n",
       "      <th>3</th>\n",
       "      <td>2012-01-01 03:00:00</td>\n",
       "      <td>-1.5</td>\n",
       "      <td>-3.2</td>\n",
       "      <td>88</td>\n",
       "      <td>6</td>\n",
       "      <td>4.0</td>\n",
       "      <td>101.27</td>\n",
       "      <td>Freezing Drizzle,Fog</td>\n",
       "      <td>3</td>\n",
       "      <td>1</td>\n",
       "      <td>...</td>\n",
       "      <td>0</td>\n",
       "      <td>0</td>\n",
       "      <td>0</td>\n",
       "      <td>0</td>\n",
       "      <td>0</td>\n",
       "      <td>0</td>\n",
       "      <td>0</td>\n",
       "      <td>0</td>\n",
       "      <td>0</td>\n",
       "      <td>0</td>\n",
       "    </tr>\n",
       "    <tr>\n",
       "      <th>4</th>\n",
       "      <td>2012-01-01 04:00:00</td>\n",
       "      <td>-1.5</td>\n",
       "      <td>-3.3</td>\n",
       "      <td>88</td>\n",
       "      <td>7</td>\n",
       "      <td>4.8</td>\n",
       "      <td>101.23</td>\n",
       "      <td>Fog</td>\n",
       "      <td>4</td>\n",
       "      <td>1</td>\n",
       "      <td>...</td>\n",
       "      <td>0</td>\n",
       "      <td>0</td>\n",
       "      <td>0</td>\n",
       "      <td>0</td>\n",
       "      <td>0</td>\n",
       "      <td>0</td>\n",
       "      <td>0</td>\n",
       "      <td>0</td>\n",
       "      <td>0</td>\n",
       "      <td>0</td>\n",
       "    </tr>\n",
       "  </tbody>\n",
       "</table>\n",
       "<p>5 rows × 36 columns</p>\n",
       "</div>"
      ],
      "text/plain": [
       "            Date/Time  Temp_C  Dew Point Temp_C  Rel Hum_%  Wind Speed_km/h  \\\n",
       "0 2012-01-01 00:00:00    -1.8              -3.9         86                4   \n",
       "1 2012-01-01 01:00:00    -1.8              -3.7         87                4   \n",
       "2 2012-01-01 02:00:00    -1.8              -3.4         89                7   \n",
       "3 2012-01-01 03:00:00    -1.5              -3.2         88                6   \n",
       "4 2012-01-01 04:00:00    -1.5              -3.3         88                7   \n",
       "\n",
       "   Visibility_km  Press_kPa               Weather  hour  month  ...  \\\n",
       "0            8.0     101.24                   Fog     0      1  ...   \n",
       "1            8.0     101.24                   Fog     1      1  ...   \n",
       "2            4.0     101.26  Freezing Drizzle,Fog     2      1  ...   \n",
       "3            4.0     101.27  Freezing Drizzle,Fog     3      1  ...   \n",
       "4            4.8     101.23                   Fog     4      1  ...   \n",
       "\n",
       "   Moderate Rain Showers  Moderate Snow Mostly Cloudy  Rain  Rain Showers  \\\n",
       "0                      0              0             0     0             0   \n",
       "1                      0              0             0     0             0   \n",
       "2                      0              0             0     0             0   \n",
       "3                      0              0             0     0             0   \n",
       "4                      0              0             0     0             0   \n",
       "\n",
       "   Snow  Snow Grains  Snow Pellets  Snow Showers  Thunderstorms  \n",
       "0     0            0             0             0              0  \n",
       "1     0            0             0             0              0  \n",
       "2     0            0             0             0              0  \n",
       "3     0            0             0             0              0  \n",
       "4     0            0             0             0              0  \n",
       "\n",
       "[5 rows x 36 columns]"
      ]
     },
     "execution_count": 9,
     "metadata": {},
     "output_type": "execute_result"
    }
   ],
   "source": [
    "df.head()"
   ]
  },
  {
   "cell_type": "markdown",
   "id": "ce65193a",
   "metadata": {
    "papermill": {
     "duration": 0.00367,
     "end_time": "2025-08-06T18:07:15.816811",
     "exception": false,
     "start_time": "2025-08-06T18:07:15.813141",
     "status": "completed"
    },
    "tags": []
   },
   "source": [
    "* If you just use simple one-hot-encoding, you get a lot of columns which can increase the risk of overfitting "
   ]
  }
 ],
 "metadata": {
  "kaggle": {
   "accelerator": "none",
   "dataSources": [
    {
     "datasetId": 7976026,
     "sourceId": 12623704,
     "sourceType": "datasetVersion"
    }
   ],
   "dockerImageVersionId": 31089,
   "isGpuEnabled": false,
   "isInternetEnabled": true,
   "language": "python",
   "sourceType": "notebook"
  },
  "kernelspec": {
   "display_name": "Python 3",
   "language": "python",
   "name": "python3"
  },
  "language_info": {
   "codemirror_mode": {
    "name": "ipython",
    "version": 3
   },
   "file_extension": ".py",
   "mimetype": "text/x-python",
   "name": "python",
   "nbconvert_exporter": "python",
   "pygments_lexer": "ipython3",
   "version": "3.11.13"
  },
  "papermill": {
   "default_parameters": {},
   "duration": 11.398147,
   "end_time": "2025-08-06T18:07:16.542332",
   "environment_variables": {},
   "exception": null,
   "input_path": "__notebook__.ipynb",
   "output_path": "__notebook__.ipynb",
   "parameters": {},
   "start_time": "2025-08-06T18:07:05.144185",
   "version": "2.6.0"
  }
 },
 "nbformat": 4,
 "nbformat_minor": 5
}
