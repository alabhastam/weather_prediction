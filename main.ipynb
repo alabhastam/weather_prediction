{
 "cells": [
  {
   "cell_type": "markdown",
   "id": "abf09de6",
   "metadata": {
    "papermill": {
     "duration": 0.005295,
     "end_time": "2025-08-06T18:36:43.296922",
     "exception": false,
     "start_time": "2025-08-06T18:36:43.291627",
     "status": "completed"
    },
    "tags": []
   },
   "source": [
    "# Reading data and loading"
   ]
  },
  {
   "cell_type": "code",
   "execution_count": 1,
   "id": "1149f74b",
   "metadata": {
    "execution": {
     "iopub.execute_input": "2025-08-06T18:36:43.307647Z",
     "iopub.status.busy": "2025-08-06T18:36:43.307345Z",
     "iopub.status.idle": "2025-08-06T18:36:45.439816Z",
     "shell.execute_reply": "2025-08-06T18:36:45.438813Z"
    },
    "papermill": {
     "duration": 2.139885,
     "end_time": "2025-08-06T18:36:45.441852",
     "exception": false,
     "start_time": "2025-08-06T18:36:43.301967",
     "status": "completed"
    },
    "tags": []
   },
   "outputs": [],
   "source": [
    "import numpy as np # linear algebra\n",
    "import pandas as pd # data processing, CSV file I/O (e.g. pd.read_csv)\n",
    "\n",
    "df = pd.read_csv('/kaggle/input/weather-data/Project 1 - Weather Dataset.csv')"
   ]
  },
  {
   "cell_type": "code",
   "execution_count": 2,
   "id": "82824827",
   "metadata": {
    "execution": {
     "iopub.execute_input": "2025-08-06T18:36:45.452881Z",
     "iopub.status.busy": "2025-08-06T18:36:45.452524Z",
     "iopub.status.idle": "2025-08-06T18:36:45.461665Z",
     "shell.execute_reply": "2025-08-06T18:36:45.460676Z"
    },
    "papermill": {
     "duration": 0.016455,
     "end_time": "2025-08-06T18:36:45.463391",
     "exception": false,
     "start_time": "2025-08-06T18:36:45.446936",
     "status": "completed"
    },
    "tags": []
   },
   "outputs": [
    {
     "data": {
      "text/plain": [
       "Index(['Date/Time', 'Temp_C', 'Dew Point Temp_C', 'Rel Hum_%',\n",
       "       'Wind Speed_km/h', 'Visibility_km', 'Press_kPa', 'Weather'],\n",
       "      dtype='object')"
      ]
     },
     "execution_count": 2,
     "metadata": {},
     "output_type": "execute_result"
    }
   ],
   "source": [
    "df.columns"
   ]
  },
  {
   "cell_type": "code",
   "execution_count": 3,
   "id": "395b052e",
   "metadata": {
    "execution": {
     "iopub.execute_input": "2025-08-06T18:36:45.473770Z",
     "iopub.status.busy": "2025-08-06T18:36:45.473433Z",
     "iopub.status.idle": "2025-08-06T18:36:45.501810Z",
     "shell.execute_reply": "2025-08-06T18:36:45.500725Z"
    },
    "papermill": {
     "duration": 0.035646,
     "end_time": "2025-08-06T18:36:45.503600",
     "exception": false,
     "start_time": "2025-08-06T18:36:45.467954",
     "status": "completed"
    },
    "tags": []
   },
   "outputs": [
    {
     "data": {
      "text/html": [
       "<div>\n",
       "<style scoped>\n",
       "    .dataframe tbody tr th:only-of-type {\n",
       "        vertical-align: middle;\n",
       "    }\n",
       "\n",
       "    .dataframe tbody tr th {\n",
       "        vertical-align: top;\n",
       "    }\n",
       "\n",
       "    .dataframe thead th {\n",
       "        text-align: right;\n",
       "    }\n",
       "</style>\n",
       "<table border=\"1\" class=\"dataframe\">\n",
       "  <thead>\n",
       "    <tr style=\"text-align: right;\">\n",
       "      <th></th>\n",
       "      <th>Date/Time</th>\n",
       "      <th>Temp_C</th>\n",
       "      <th>Dew Point Temp_C</th>\n",
       "      <th>Rel Hum_%</th>\n",
       "      <th>Wind Speed_km/h</th>\n",
       "      <th>Visibility_km</th>\n",
       "      <th>Press_kPa</th>\n",
       "      <th>Weather</th>\n",
       "    </tr>\n",
       "  </thead>\n",
       "  <tbody>\n",
       "    <tr>\n",
       "      <th>0</th>\n",
       "      <td>1/1/2012 0:00</td>\n",
       "      <td>-1.8</td>\n",
       "      <td>-3.9</td>\n",
       "      <td>86</td>\n",
       "      <td>4</td>\n",
       "      <td>8.0</td>\n",
       "      <td>101.24</td>\n",
       "      <td>Fog</td>\n",
       "    </tr>\n",
       "    <tr>\n",
       "      <th>1</th>\n",
       "      <td>1/1/2012 1:00</td>\n",
       "      <td>-1.8</td>\n",
       "      <td>-3.7</td>\n",
       "      <td>87</td>\n",
       "      <td>4</td>\n",
       "      <td>8.0</td>\n",
       "      <td>101.24</td>\n",
       "      <td>Fog</td>\n",
       "    </tr>\n",
       "    <tr>\n",
       "      <th>2</th>\n",
       "      <td>1/1/2012 2:00</td>\n",
       "      <td>-1.8</td>\n",
       "      <td>-3.4</td>\n",
       "      <td>89</td>\n",
       "      <td>7</td>\n",
       "      <td>4.0</td>\n",
       "      <td>101.26</td>\n",
       "      <td>Freezing Drizzle,Fog</td>\n",
       "    </tr>\n",
       "    <tr>\n",
       "      <th>3</th>\n",
       "      <td>1/1/2012 3:00</td>\n",
       "      <td>-1.5</td>\n",
       "      <td>-3.2</td>\n",
       "      <td>88</td>\n",
       "      <td>6</td>\n",
       "      <td>4.0</td>\n",
       "      <td>101.27</td>\n",
       "      <td>Freezing Drizzle,Fog</td>\n",
       "    </tr>\n",
       "    <tr>\n",
       "      <th>4</th>\n",
       "      <td>1/1/2012 4:00</td>\n",
       "      <td>-1.5</td>\n",
       "      <td>-3.3</td>\n",
       "      <td>88</td>\n",
       "      <td>7</td>\n",
       "      <td>4.8</td>\n",
       "      <td>101.23</td>\n",
       "      <td>Fog</td>\n",
       "    </tr>\n",
       "    <tr>\n",
       "      <th>5</th>\n",
       "      <td>1/1/2012 5:00</td>\n",
       "      <td>-1.4</td>\n",
       "      <td>-3.3</td>\n",
       "      <td>87</td>\n",
       "      <td>9</td>\n",
       "      <td>6.4</td>\n",
       "      <td>101.27</td>\n",
       "      <td>Fog</td>\n",
       "    </tr>\n",
       "    <tr>\n",
       "      <th>6</th>\n",
       "      <td>1/1/2012 6:00</td>\n",
       "      <td>-1.5</td>\n",
       "      <td>-3.1</td>\n",
       "      <td>89</td>\n",
       "      <td>7</td>\n",
       "      <td>6.4</td>\n",
       "      <td>101.29</td>\n",
       "      <td>Fog</td>\n",
       "    </tr>\n",
       "    <tr>\n",
       "      <th>7</th>\n",
       "      <td>1/1/2012 7:00</td>\n",
       "      <td>-1.4</td>\n",
       "      <td>-3.6</td>\n",
       "      <td>85</td>\n",
       "      <td>7</td>\n",
       "      <td>8.0</td>\n",
       "      <td>101.26</td>\n",
       "      <td>Fog</td>\n",
       "    </tr>\n",
       "    <tr>\n",
       "      <th>8</th>\n",
       "      <td>1/1/2012 8:00</td>\n",
       "      <td>-1.4</td>\n",
       "      <td>-3.6</td>\n",
       "      <td>85</td>\n",
       "      <td>9</td>\n",
       "      <td>8.0</td>\n",
       "      <td>101.23</td>\n",
       "      <td>Fog</td>\n",
       "    </tr>\n",
       "    <tr>\n",
       "      <th>9</th>\n",
       "      <td>1/1/2012 9:00</td>\n",
       "      <td>-1.3</td>\n",
       "      <td>-3.1</td>\n",
       "      <td>88</td>\n",
       "      <td>15</td>\n",
       "      <td>4.0</td>\n",
       "      <td>101.20</td>\n",
       "      <td>Fog</td>\n",
       "    </tr>\n",
       "  </tbody>\n",
       "</table>\n",
       "</div>"
      ],
      "text/plain": [
       "       Date/Time  Temp_C  Dew Point Temp_C  Rel Hum_%  Wind Speed_km/h  \\\n",
       "0  1/1/2012 0:00    -1.8              -3.9         86                4   \n",
       "1  1/1/2012 1:00    -1.8              -3.7         87                4   \n",
       "2  1/1/2012 2:00    -1.8              -3.4         89                7   \n",
       "3  1/1/2012 3:00    -1.5              -3.2         88                6   \n",
       "4  1/1/2012 4:00    -1.5              -3.3         88                7   \n",
       "5  1/1/2012 5:00    -1.4              -3.3         87                9   \n",
       "6  1/1/2012 6:00    -1.5              -3.1         89                7   \n",
       "7  1/1/2012 7:00    -1.4              -3.6         85                7   \n",
       "8  1/1/2012 8:00    -1.4              -3.6         85                9   \n",
       "9  1/1/2012 9:00    -1.3              -3.1         88               15   \n",
       "\n",
       "   Visibility_km  Press_kPa               Weather  \n",
       "0            8.0     101.24                   Fog  \n",
       "1            8.0     101.24                   Fog  \n",
       "2            4.0     101.26  Freezing Drizzle,Fog  \n",
       "3            4.0     101.27  Freezing Drizzle,Fog  \n",
       "4            4.8     101.23                   Fog  \n",
       "5            6.4     101.27                   Fog  \n",
       "6            6.4     101.29                   Fog  \n",
       "7            8.0     101.26                   Fog  \n",
       "8            8.0     101.23                   Fog  \n",
       "9            4.0     101.20                   Fog  "
      ]
     },
     "execution_count": 3,
     "metadata": {},
     "output_type": "execute_result"
    }
   ],
   "source": [
    "df.head(10)"
   ]
  },
  {
   "cell_type": "code",
   "execution_count": 4,
   "id": "1af16963",
   "metadata": {
    "execution": {
     "iopub.execute_input": "2025-08-06T18:36:45.515502Z",
     "iopub.status.busy": "2025-08-06T18:36:45.515165Z",
     "iopub.status.idle": "2025-08-06T18:36:45.528888Z",
     "shell.execute_reply": "2025-08-06T18:36:45.527923Z"
    },
    "papermill": {
     "duration": 0.021485,
     "end_time": "2025-08-06T18:36:45.530491",
     "exception": false,
     "start_time": "2025-08-06T18:36:45.509006",
     "status": "completed"
    },
    "tags": []
   },
   "outputs": [
    {
     "data": {
      "text/html": [
       "<div>\n",
       "<style scoped>\n",
       "    .dataframe tbody tr th:only-of-type {\n",
       "        vertical-align: middle;\n",
       "    }\n",
       "\n",
       "    .dataframe tbody tr th {\n",
       "        vertical-align: top;\n",
       "    }\n",
       "\n",
       "    .dataframe thead th {\n",
       "        text-align: right;\n",
       "    }\n",
       "</style>\n",
       "<table border=\"1\" class=\"dataframe\">\n",
       "  <thead>\n",
       "    <tr style=\"text-align: right;\">\n",
       "      <th></th>\n",
       "      <th>Date/Time</th>\n",
       "      <th>Temp_C</th>\n",
       "      <th>Dew Point Temp_C</th>\n",
       "      <th>Rel Hum_%</th>\n",
       "      <th>Wind Speed_km/h</th>\n",
       "      <th>Visibility_km</th>\n",
       "      <th>Press_kPa</th>\n",
       "      <th>Weather</th>\n",
       "    </tr>\n",
       "  </thead>\n",
       "  <tbody>\n",
       "    <tr>\n",
       "      <th>8779</th>\n",
       "      <td>12/31/2012 19:00</td>\n",
       "      <td>0.1</td>\n",
       "      <td>-2.7</td>\n",
       "      <td>81</td>\n",
       "      <td>30</td>\n",
       "      <td>9.7</td>\n",
       "      <td>100.13</td>\n",
       "      <td>Snow</td>\n",
       "    </tr>\n",
       "    <tr>\n",
       "      <th>8780</th>\n",
       "      <td>12/31/2012 20:00</td>\n",
       "      <td>0.2</td>\n",
       "      <td>-2.4</td>\n",
       "      <td>83</td>\n",
       "      <td>24</td>\n",
       "      <td>9.7</td>\n",
       "      <td>100.03</td>\n",
       "      <td>Snow</td>\n",
       "    </tr>\n",
       "    <tr>\n",
       "      <th>8781</th>\n",
       "      <td>12/31/2012 21:00</td>\n",
       "      <td>-0.5</td>\n",
       "      <td>-1.5</td>\n",
       "      <td>93</td>\n",
       "      <td>28</td>\n",
       "      <td>4.8</td>\n",
       "      <td>99.95</td>\n",
       "      <td>Snow</td>\n",
       "    </tr>\n",
       "    <tr>\n",
       "      <th>8782</th>\n",
       "      <td>12/31/2012 22:00</td>\n",
       "      <td>-0.2</td>\n",
       "      <td>-1.8</td>\n",
       "      <td>89</td>\n",
       "      <td>28</td>\n",
       "      <td>9.7</td>\n",
       "      <td>99.91</td>\n",
       "      <td>Snow</td>\n",
       "    </tr>\n",
       "    <tr>\n",
       "      <th>8783</th>\n",
       "      <td>12/31/2012 23:00</td>\n",
       "      <td>0.0</td>\n",
       "      <td>-2.1</td>\n",
       "      <td>86</td>\n",
       "      <td>30</td>\n",
       "      <td>11.3</td>\n",
       "      <td>99.89</td>\n",
       "      <td>Snow</td>\n",
       "    </tr>\n",
       "  </tbody>\n",
       "</table>\n",
       "</div>"
      ],
      "text/plain": [
       "             Date/Time  Temp_C  Dew Point Temp_C  Rel Hum_%  Wind Speed_km/h  \\\n",
       "8779  12/31/2012 19:00     0.1              -2.7         81               30   \n",
       "8780  12/31/2012 20:00     0.2              -2.4         83               24   \n",
       "8781  12/31/2012 21:00    -0.5              -1.5         93               28   \n",
       "8782  12/31/2012 22:00    -0.2              -1.8         89               28   \n",
       "8783  12/31/2012 23:00     0.0              -2.1         86               30   \n",
       "\n",
       "      Visibility_km  Press_kPa Weather  \n",
       "8779            9.7     100.13    Snow  \n",
       "8780            9.7     100.03    Snow  \n",
       "8781            4.8      99.95    Snow  \n",
       "8782            9.7      99.91    Snow  \n",
       "8783           11.3      99.89    Snow  "
      ]
     },
     "execution_count": 4,
     "metadata": {},
     "output_type": "execute_result"
    }
   ],
   "source": [
    "df.tail(5)"
   ]
  },
  {
   "cell_type": "markdown",
   "id": "305c506f",
   "metadata": {
    "papermill": {
     "duration": 0.004794,
     "end_time": "2025-08-06T18:36:45.540721",
     "exception": false,
     "start_time": "2025-08-06T18:36:45.535927",
     "status": "completed"
    },
    "tags": []
   },
   "source": [
    "* So in this dataset, we don't have any seasonal cycle.(One year and only four season)"
   ]
  },
  {
   "cell_type": "code",
   "execution_count": 5,
   "id": "8d3a6157",
   "metadata": {
    "execution": {
     "iopub.execute_input": "2025-08-06T18:36:45.551333Z",
     "iopub.status.busy": "2025-08-06T18:36:45.551025Z",
     "iopub.status.idle": "2025-08-06T18:36:45.556718Z",
     "shell.execute_reply": "2025-08-06T18:36:45.555896Z"
    },
    "papermill": {
     "duration": 0.012937,
     "end_time": "2025-08-06T18:36:45.558313",
     "exception": false,
     "start_time": "2025-08-06T18:36:45.545376",
     "status": "completed"
    },
    "tags": []
   },
   "outputs": [
    {
     "data": {
      "text/plain": [
       "(8784, 8)"
      ]
     },
     "execution_count": 5,
     "metadata": {},
     "output_type": "execute_result"
    }
   ],
   "source": [
    "df.shape"
   ]
  },
  {
   "cell_type": "markdown",
   "id": "c3f6ceb4",
   "metadata": {
    "papermill": {
     "duration": 0.005646,
     "end_time": "2025-08-06T18:36:45.568958",
     "exception": false,
     "start_time": "2025-08-06T18:36:45.563312",
     "status": "completed"
    },
    "tags": []
   },
   "source": [
    "# handling uncommon data"
   ]
  },
  {
   "cell_type": "markdown",
   "id": "36d8d784",
   "metadata": {
    "papermill": {
     "duration": 0.004568,
     "end_time": "2025-08-06T18:36:45.578541",
     "exception": false,
     "start_time": "2025-08-06T18:36:45.573973",
     "status": "completed"
    },
    "tags": []
   },
   "source": [
    "* We only have one categorical column, and that is weather.\n",
    "* In most classification problems, the target is weather. That's what we are gonna do. \n",
    "  "
   ]
  },
  {
   "cell_type": "code",
   "execution_count": 6,
   "id": "bf133ae2",
   "metadata": {
    "execution": {
     "iopub.execute_input": "2025-08-06T18:36:45.589463Z",
     "iopub.status.busy": "2025-08-06T18:36:45.589034Z",
     "iopub.status.idle": "2025-08-06T18:36:45.634242Z",
     "shell.execute_reply": "2025-08-06T18:36:45.633340Z"
    },
    "papermill": {
     "duration": 0.052715,
     "end_time": "2025-08-06T18:36:45.636109",
     "exception": false,
     "start_time": "2025-08-06T18:36:45.583394",
     "status": "completed"
    },
    "tags": []
   },
   "outputs": [],
   "source": [
    "\n",
    "df['Date/Time'] = pd.to_datetime(df['Date/Time'])\n",
    "df['hour'] = df['Date/Time'].dt.hour\n",
    "df['month'] = df['Date/Time'].dt.month\n",
    "df['day'] = df['Date/Time'].dt.day\n",
    "df['dayofweek'] = df['Date/Time'].dt.dayofweek  # 0=Monday\n"
   ]
  },
  {
   "cell_type": "markdown",
   "id": "c9e7c44e",
   "metadata": {
    "papermill": {
     "duration": 0.00432,
     "end_time": "2025-08-06T18:36:45.645303",
     "exception": false,
     "start_time": "2025-08-06T18:36:45.640983",
     "status": "completed"
    },
    "tags": []
   },
   "source": [
    "I made this to check the correlation, and if it was important, I would try to use it in my model. Of course, in this kind of dataset, season is the most crucial item. But we need to be sure about data leakage. "
   ]
  },
  {
   "cell_type": "code",
   "execution_count": 7,
   "id": "185856a1",
   "metadata": {
    "execution": {
     "iopub.execute_input": "2025-08-06T18:36:45.657152Z",
     "iopub.status.busy": "2025-08-06T18:36:45.655780Z",
     "iopub.status.idle": "2025-08-06T18:36:45.665259Z",
     "shell.execute_reply": "2025-08-06T18:36:45.664117Z"
    },
    "papermill": {
     "duration": 0.016605,
     "end_time": "2025-08-06T18:36:45.666657",
     "exception": false,
     "start_time": "2025-08-06T18:36:45.650052",
     "status": "completed"
    },
    "tags": []
   },
   "outputs": [
    {
     "name": "stdout",
     "output_type": "stream",
     "text": [
      "['Fog' 'Freezing Drizzle,Fog' 'Mostly Cloudy' 'Cloudy' 'Rain'\n",
      " 'Rain Showers' 'Mainly Clear' 'Snow Showers' 'Snow' 'Clear'\n",
      " 'Freezing Rain,Fog' 'Freezing Rain' 'Freezing Drizzle' 'Rain,Snow'\n",
      " 'Moderate Snow' 'Freezing Drizzle,Snow' 'Freezing Rain,Snow Grains'\n",
      " 'Snow,Blowing Snow' 'Freezing Fog' 'Haze' 'Rain,Fog' 'Drizzle,Fog'\n",
      " 'Drizzle' 'Freezing Drizzle,Haze' 'Freezing Rain,Haze' 'Snow,Haze'\n",
      " 'Snow,Fog' 'Snow,Ice Pellets' 'Rain,Haze' 'Thunderstorms,Rain'\n",
      " 'Thunderstorms,Rain Showers' 'Thunderstorms,Heavy Rain Showers'\n",
      " 'Thunderstorms,Rain Showers,Fog' 'Thunderstorms' 'Thunderstorms,Rain,Fog'\n",
      " 'Thunderstorms,Moderate Rain Showers,Fog' 'Rain Showers,Fog'\n",
      " 'Rain Showers,Snow Showers' 'Snow Pellets' 'Rain,Snow,Fog'\n",
      " 'Moderate Rain,Fog' 'Freezing Rain,Ice Pellets,Fog'\n",
      " 'Drizzle,Ice Pellets,Fog' 'Drizzle,Snow' 'Rain,Ice Pellets'\n",
      " 'Drizzle,Snow,Fog' 'Rain,Snow Grains' 'Rain,Snow,Ice Pellets'\n",
      " 'Snow Showers,Fog' 'Moderate Snow,Blowing Snow']\n"
     ]
    }
   ],
   "source": [
    "unique_weather = df['Weather'].unique()\n",
    "print(unique_weather)"
   ]
  },
  {
   "cell_type": "markdown",
   "id": "ad403ae1",
   "metadata": {
    "papermill": {
     "duration": 0.004406,
     "end_time": "2025-08-06T18:36:45.675883",
     "exception": false,
     "start_time": "2025-08-06T18:36:45.671477",
     "status": "completed"
    },
    "tags": []
   },
   "source": [
    "# Multi-Label Binarization "
   ]
  },
  {
   "cell_type": "code",
   "execution_count": 8,
   "id": "f5f51081",
   "metadata": {
    "execution": {
     "iopub.execute_input": "2025-08-06T18:36:45.686665Z",
     "iopub.status.busy": "2025-08-06T18:36:45.686321Z",
     "iopub.status.idle": "2025-08-06T18:36:47.338241Z",
     "shell.execute_reply": "2025-08-06T18:36:47.337250Z"
    },
    "papermill": {
     "duration": 1.659543,
     "end_time": "2025-08-06T18:36:47.340123",
     "exception": false,
     "start_time": "2025-08-06T18:36:45.680580",
     "status": "completed"
    },
    "tags": []
   },
   "outputs": [],
   "source": [
    "from sklearn.preprocessing import MultiLabelBinarizer\n",
    "df['Weather_multi'] = df['Weather'].str.split(',') \n",
    "mlb = MultiLabelBinarizer()\n",
    "multi_weather = pd.DataFrame(mlb.fit_transform(df['Weather_multi']), columns=mlb.classes_, index=df.index)\n",
    "df = pd.concat([df, multi_weather], axis=1)\n"
   ]
  },
  {
   "cell_type": "code",
   "execution_count": 9,
   "id": "985902c0",
   "metadata": {
    "execution": {
     "iopub.execute_input": "2025-08-06T18:36:47.352039Z",
     "iopub.status.busy": "2025-08-06T18:36:47.351495Z",
     "iopub.status.idle": "2025-08-06T18:36:47.376654Z",
     "shell.execute_reply": "2025-08-06T18:36:47.375695Z"
    },
    "papermill": {
     "duration": 0.032532,
     "end_time": "2025-08-06T18:36:47.378129",
     "exception": false,
     "start_time": "2025-08-06T18:36:47.345597",
     "status": "completed"
    },
    "tags": []
   },
   "outputs": [
    {
     "data": {
      "text/html": [
       "<div>\n",
       "<style scoped>\n",
       "    .dataframe tbody tr th:only-of-type {\n",
       "        vertical-align: middle;\n",
       "    }\n",
       "\n",
       "    .dataframe tbody tr th {\n",
       "        vertical-align: top;\n",
       "    }\n",
       "\n",
       "    .dataframe thead th {\n",
       "        text-align: right;\n",
       "    }\n",
       "</style>\n",
       "<table border=\"1\" class=\"dataframe\">\n",
       "  <thead>\n",
       "    <tr style=\"text-align: right;\">\n",
       "      <th></th>\n",
       "      <th>Date/Time</th>\n",
       "      <th>Temp_C</th>\n",
       "      <th>Dew Point Temp_C</th>\n",
       "      <th>Rel Hum_%</th>\n",
       "      <th>Wind Speed_km/h</th>\n",
       "      <th>Visibility_km</th>\n",
       "      <th>Press_kPa</th>\n",
       "      <th>Weather</th>\n",
       "      <th>hour</th>\n",
       "      <th>month</th>\n",
       "      <th>...</th>\n",
       "      <th>Moderate Rain Showers</th>\n",
       "      <th>Moderate Snow</th>\n",
       "      <th>Mostly Cloudy</th>\n",
       "      <th>Rain</th>\n",
       "      <th>Rain Showers</th>\n",
       "      <th>Snow</th>\n",
       "      <th>Snow Grains</th>\n",
       "      <th>Snow Pellets</th>\n",
       "      <th>Snow Showers</th>\n",
       "      <th>Thunderstorms</th>\n",
       "    </tr>\n",
       "  </thead>\n",
       "  <tbody>\n",
       "    <tr>\n",
       "      <th>0</th>\n",
       "      <td>2012-01-01 00:00:00</td>\n",
       "      <td>-1.8</td>\n",
       "      <td>-3.9</td>\n",
       "      <td>86</td>\n",
       "      <td>4</td>\n",
       "      <td>8.0</td>\n",
       "      <td>101.24</td>\n",
       "      <td>Fog</td>\n",
       "      <td>0</td>\n",
       "      <td>1</td>\n",
       "      <td>...</td>\n",
       "      <td>0</td>\n",
       "      <td>0</td>\n",
       "      <td>0</td>\n",
       "      <td>0</td>\n",
       "      <td>0</td>\n",
       "      <td>0</td>\n",
       "      <td>0</td>\n",
       "      <td>0</td>\n",
       "      <td>0</td>\n",
       "      <td>0</td>\n",
       "    </tr>\n",
       "    <tr>\n",
       "      <th>1</th>\n",
       "      <td>2012-01-01 01:00:00</td>\n",
       "      <td>-1.8</td>\n",
       "      <td>-3.7</td>\n",
       "      <td>87</td>\n",
       "      <td>4</td>\n",
       "      <td>8.0</td>\n",
       "      <td>101.24</td>\n",
       "      <td>Fog</td>\n",
       "      <td>1</td>\n",
       "      <td>1</td>\n",
       "      <td>...</td>\n",
       "      <td>0</td>\n",
       "      <td>0</td>\n",
       "      <td>0</td>\n",
       "      <td>0</td>\n",
       "      <td>0</td>\n",
       "      <td>0</td>\n",
       "      <td>0</td>\n",
       "      <td>0</td>\n",
       "      <td>0</td>\n",
       "      <td>0</td>\n",
       "    </tr>\n",
       "    <tr>\n",
       "      <th>2</th>\n",
       "      <td>2012-01-01 02:00:00</td>\n",
       "      <td>-1.8</td>\n",
       "      <td>-3.4</td>\n",
       "      <td>89</td>\n",
       "      <td>7</td>\n",
       "      <td>4.0</td>\n",
       "      <td>101.26</td>\n",
       "      <td>Freezing Drizzle,Fog</td>\n",
       "      <td>2</td>\n",
       "      <td>1</td>\n",
       "      <td>...</td>\n",
       "      <td>0</td>\n",
       "      <td>0</td>\n",
       "      <td>0</td>\n",
       "      <td>0</td>\n",
       "      <td>0</td>\n",
       "      <td>0</td>\n",
       "      <td>0</td>\n",
       "      <td>0</td>\n",
       "      <td>0</td>\n",
       "      <td>0</td>\n",
       "    </tr>\n",
       "    <tr>\n",
       "      <th>3</th>\n",
       "      <td>2012-01-01 03:00:00</td>\n",
       "      <td>-1.5</td>\n",
       "      <td>-3.2</td>\n",
       "      <td>88</td>\n",
       "      <td>6</td>\n",
       "      <td>4.0</td>\n",
       "      <td>101.27</td>\n",
       "      <td>Freezing Drizzle,Fog</td>\n",
       "      <td>3</td>\n",
       "      <td>1</td>\n",
       "      <td>...</td>\n",
       "      <td>0</td>\n",
       "      <td>0</td>\n",
       "      <td>0</td>\n",
       "      <td>0</td>\n",
       "      <td>0</td>\n",
       "      <td>0</td>\n",
       "      <td>0</td>\n",
       "      <td>0</td>\n",
       "      <td>0</td>\n",
       "      <td>0</td>\n",
       "    </tr>\n",
       "    <tr>\n",
       "      <th>4</th>\n",
       "      <td>2012-01-01 04:00:00</td>\n",
       "      <td>-1.5</td>\n",
       "      <td>-3.3</td>\n",
       "      <td>88</td>\n",
       "      <td>7</td>\n",
       "      <td>4.8</td>\n",
       "      <td>101.23</td>\n",
       "      <td>Fog</td>\n",
       "      <td>4</td>\n",
       "      <td>1</td>\n",
       "      <td>...</td>\n",
       "      <td>0</td>\n",
       "      <td>0</td>\n",
       "      <td>0</td>\n",
       "      <td>0</td>\n",
       "      <td>0</td>\n",
       "      <td>0</td>\n",
       "      <td>0</td>\n",
       "      <td>0</td>\n",
       "      <td>0</td>\n",
       "      <td>0</td>\n",
       "    </tr>\n",
       "  </tbody>\n",
       "</table>\n",
       "<p>5 rows × 36 columns</p>\n",
       "</div>"
      ],
      "text/plain": [
       "            Date/Time  Temp_C  Dew Point Temp_C  Rel Hum_%  Wind Speed_km/h  \\\n",
       "0 2012-01-01 00:00:00    -1.8              -3.9         86                4   \n",
       "1 2012-01-01 01:00:00    -1.8              -3.7         87                4   \n",
       "2 2012-01-01 02:00:00    -1.8              -3.4         89                7   \n",
       "3 2012-01-01 03:00:00    -1.5              -3.2         88                6   \n",
       "4 2012-01-01 04:00:00    -1.5              -3.3         88                7   \n",
       "\n",
       "   Visibility_km  Press_kPa               Weather  hour  month  ...  \\\n",
       "0            8.0     101.24                   Fog     0      1  ...   \n",
       "1            8.0     101.24                   Fog     1      1  ...   \n",
       "2            4.0     101.26  Freezing Drizzle,Fog     2      1  ...   \n",
       "3            4.0     101.27  Freezing Drizzle,Fog     3      1  ...   \n",
       "4            4.8     101.23                   Fog     4      1  ...   \n",
       "\n",
       "   Moderate Rain Showers  Moderate Snow Mostly Cloudy  Rain  Rain Showers  \\\n",
       "0                      0              0             0     0             0   \n",
       "1                      0              0             0     0             0   \n",
       "2                      0              0             0     0             0   \n",
       "3                      0              0             0     0             0   \n",
       "4                      0              0             0     0             0   \n",
       "\n",
       "   Snow  Snow Grains  Snow Pellets  Snow Showers  Thunderstorms  \n",
       "0     0            0             0             0              0  \n",
       "1     0            0             0             0              0  \n",
       "2     0            0             0             0              0  \n",
       "3     0            0             0             0              0  \n",
       "4     0            0             0             0              0  \n",
       "\n",
       "[5 rows x 36 columns]"
      ]
     },
     "execution_count": 9,
     "metadata": {},
     "output_type": "execute_result"
    }
   ],
   "source": [
    "df.head()"
   ]
  },
  {
   "cell_type": "markdown",
   "id": "8d9a636c",
   "metadata": {
    "papermill": {
     "duration": 0.004743,
     "end_time": "2025-08-06T18:36:47.388299",
     "exception": false,
     "start_time": "2025-08-06T18:36:47.383556",
     "status": "completed"
    },
    "tags": []
   },
   "source": [
    "* If you just use simple one-hot-encoding, you get a lot of columns which can increase the risk of overfitting "
   ]
  },
  {
   "cell_type": "markdown",
   "id": "50a14236",
   "metadata": {
    "papermill": {
     "duration": 0.004712,
     "end_time": "2025-08-06T18:36:47.398559",
     "exception": false,
     "start_time": "2025-08-06T18:36:47.393847",
     "status": "completed"
    },
    "tags": []
   },
   "source": [
    "# prepare data"
   ]
  },
  {
   "cell_type": "code",
   "execution_count": 10,
   "id": "0c89cf7b",
   "metadata": {
    "execution": {
     "iopub.execute_input": "2025-08-06T18:36:47.409887Z",
     "iopub.status.busy": "2025-08-06T18:36:47.409473Z",
     "iopub.status.idle": "2025-08-06T18:36:47.415794Z",
     "shell.execute_reply": "2025-08-06T18:36:47.415013Z"
    },
    "papermill": {
     "duration": 0.01378,
     "end_time": "2025-08-06T18:36:47.417332",
     "exception": false,
     "start_time": "2025-08-06T18:36:47.403552",
     "status": "completed"
    },
    "tags": []
   },
   "outputs": [
    {
     "data": {
      "text/plain": [
       "Index(['Date/Time', 'Temp_C', 'Dew Point Temp_C', 'Rel Hum_%',\n",
       "       'Wind Speed_km/h', 'Visibility_km', 'Press_kPa', 'Weather', 'hour',\n",
       "       'month', 'day', 'dayofweek', 'Weather_multi', 'Blowing Snow', 'Clear',\n",
       "       'Cloudy', 'Drizzle', 'Fog', 'Freezing Drizzle', 'Freezing Fog',\n",
       "       'Freezing Rain', 'Haze', 'Heavy Rain Showers', 'Ice Pellets',\n",
       "       'Mainly Clear', 'Moderate Rain', 'Moderate Rain Showers',\n",
       "       'Moderate Snow', 'Mostly Cloudy', 'Rain', 'Rain Showers', 'Snow',\n",
       "       'Snow Grains', 'Snow Pellets', 'Snow Showers', 'Thunderstorms'],\n",
       "      dtype='object')"
      ]
     },
     "execution_count": 10,
     "metadata": {},
     "output_type": "execute_result"
    }
   ],
   "source": [
    "df.columns"
   ]
  },
  {
   "cell_type": "code",
   "execution_count": 11,
   "id": "79f766b0",
   "metadata": {
    "execution": {
     "iopub.execute_input": "2025-08-06T18:36:47.430126Z",
     "iopub.status.busy": "2025-08-06T18:36:47.429721Z",
     "iopub.status.idle": "2025-08-06T18:36:47.438433Z",
     "shell.execute_reply": "2025-08-06T18:36:47.437427Z"
    },
    "papermill": {
     "duration": 0.016934,
     "end_time": "2025-08-06T18:36:47.440230",
     "exception": false,
     "start_time": "2025-08-06T18:36:47.423296",
     "status": "completed"
    },
    "tags": []
   },
   "outputs": [],
   "source": [
    "#I delete 'Dew Point Temp_C' because of data leakage\n",
    "feature_cols = [\n",
    "     'Rel Hum_%', 'Wind Speed_km/h', \n",
    "    'Visibility_km', 'Press_kPa', \n",
    "    'hour', 'month', 'day', \n",
    "    # Add the weather one-hot columns from your mlb\n",
    "] + list(mlb.classes_)\n",
    "\n",
    "X = df[feature_cols]\n",
    "y = df['Temp_C']\n"
   ]
  },
  {
   "cell_type": "markdown",
   "id": "1b2fc1a0",
   "metadata": {
    "papermill": {
     "duration": 0.004829,
     "end_time": "2025-08-06T18:36:47.450634",
     "exception": false,
     "start_time": "2025-08-06T18:36:47.445805",
     "status": "completed"
    },
    "tags": []
   },
   "source": [
    "# train - test"
   ]
  },
  {
   "cell_type": "code",
   "execution_count": 12,
   "id": "70277423",
   "metadata": {
    "execution": {
     "iopub.execute_input": "2025-08-06T18:36:47.462614Z",
     "iopub.status.busy": "2025-08-06T18:36:47.461845Z",
     "iopub.status.idle": "2025-08-06T18:36:47.606255Z",
     "shell.execute_reply": "2025-08-06T18:36:47.605024Z"
    },
    "papermill": {
     "duration": 0.152499,
     "end_time": "2025-08-06T18:36:47.608221",
     "exception": false,
     "start_time": "2025-08-06T18:36:47.455722",
     "status": "completed"
    },
    "tags": []
   },
   "outputs": [],
   "source": [
    "from sklearn.model_selection import train_test_split\n",
    "\n",
    "X_train, X_test, y_train, y_test = train_test_split(X, y, test_size=0.2, random_state=42)\n"
   ]
  },
  {
   "cell_type": "markdown",
   "id": "f9d6e86b",
   "metadata": {
    "papermill": {
     "duration": 0.004931,
     "end_time": "2025-08-06T18:36:47.618591",
     "exception": false,
     "start_time": "2025-08-06T18:36:47.613660",
     "status": "completed"
    },
    "tags": []
   },
   "source": [
    "# RF"
   ]
  },
  {
   "cell_type": "code",
   "execution_count": 13,
   "id": "66e923ed",
   "metadata": {
    "execution": {
     "iopub.execute_input": "2025-08-06T18:36:47.631412Z",
     "iopub.status.busy": "2025-08-06T18:36:47.630960Z",
     "iopub.status.idle": "2025-08-06T18:36:51.330872Z",
     "shell.execute_reply": "2025-08-06T18:36:51.329816Z"
    },
    "papermill": {
     "duration": 3.707951,
     "end_time": "2025-08-06T18:36:51.332492",
     "exception": false,
     "start_time": "2025-08-06T18:36:47.624541",
     "status": "completed"
    },
    "tags": []
   },
   "outputs": [
    {
     "data": {
      "text/html": [
       "<style>#sk-container-id-1 {color: black;background-color: white;}#sk-container-id-1 pre{padding: 0;}#sk-container-id-1 div.sk-toggleable {background-color: white;}#sk-container-id-1 label.sk-toggleable__label {cursor: pointer;display: block;width: 100%;margin-bottom: 0;padding: 0.3em;box-sizing: border-box;text-align: center;}#sk-container-id-1 label.sk-toggleable__label-arrow:before {content: \"▸\";float: left;margin-right: 0.25em;color: #696969;}#sk-container-id-1 label.sk-toggleable__label-arrow:hover:before {color: black;}#sk-container-id-1 div.sk-estimator:hover label.sk-toggleable__label-arrow:before {color: black;}#sk-container-id-1 div.sk-toggleable__content {max-height: 0;max-width: 0;overflow: hidden;text-align: left;background-color: #f0f8ff;}#sk-container-id-1 div.sk-toggleable__content pre {margin: 0.2em;color: black;border-radius: 0.25em;background-color: #f0f8ff;}#sk-container-id-1 input.sk-toggleable__control:checked~div.sk-toggleable__content {max-height: 200px;max-width: 100%;overflow: auto;}#sk-container-id-1 input.sk-toggleable__control:checked~label.sk-toggleable__label-arrow:before {content: \"▾\";}#sk-container-id-1 div.sk-estimator input.sk-toggleable__control:checked~label.sk-toggleable__label {background-color: #d4ebff;}#sk-container-id-1 div.sk-label input.sk-toggleable__control:checked~label.sk-toggleable__label {background-color: #d4ebff;}#sk-container-id-1 input.sk-hidden--visually {border: 0;clip: rect(1px 1px 1px 1px);clip: rect(1px, 1px, 1px, 1px);height: 1px;margin: -1px;overflow: hidden;padding: 0;position: absolute;width: 1px;}#sk-container-id-1 div.sk-estimator {font-family: monospace;background-color: #f0f8ff;border: 1px dotted black;border-radius: 0.25em;box-sizing: border-box;margin-bottom: 0.5em;}#sk-container-id-1 div.sk-estimator:hover {background-color: #d4ebff;}#sk-container-id-1 div.sk-parallel-item::after {content: \"\";width: 100%;border-bottom: 1px solid gray;flex-grow: 1;}#sk-container-id-1 div.sk-label:hover label.sk-toggleable__label {background-color: #d4ebff;}#sk-container-id-1 div.sk-serial::before {content: \"\";position: absolute;border-left: 1px solid gray;box-sizing: border-box;top: 0;bottom: 0;left: 50%;z-index: 0;}#sk-container-id-1 div.sk-serial {display: flex;flex-direction: column;align-items: center;background-color: white;padding-right: 0.2em;padding-left: 0.2em;position: relative;}#sk-container-id-1 div.sk-item {position: relative;z-index: 1;}#sk-container-id-1 div.sk-parallel {display: flex;align-items: stretch;justify-content: center;background-color: white;position: relative;}#sk-container-id-1 div.sk-item::before, #sk-container-id-1 div.sk-parallel-item::before {content: \"\";position: absolute;border-left: 1px solid gray;box-sizing: border-box;top: 0;bottom: 0;left: 50%;z-index: -1;}#sk-container-id-1 div.sk-parallel-item {display: flex;flex-direction: column;z-index: 1;position: relative;background-color: white;}#sk-container-id-1 div.sk-parallel-item:first-child::after {align-self: flex-end;width: 50%;}#sk-container-id-1 div.sk-parallel-item:last-child::after {align-self: flex-start;width: 50%;}#sk-container-id-1 div.sk-parallel-item:only-child::after {width: 0;}#sk-container-id-1 div.sk-dashed-wrapped {border: 1px dashed gray;margin: 0 0.4em 0.5em 0.4em;box-sizing: border-box;padding-bottom: 0.4em;background-color: white;}#sk-container-id-1 div.sk-label label {font-family: monospace;font-weight: bold;display: inline-block;line-height: 1.2em;}#sk-container-id-1 div.sk-label-container {text-align: center;}#sk-container-id-1 div.sk-container {/* jupyter's `normalize.less` sets `[hidden] { display: none; }` but bootstrap.min.css set `[hidden] { display: none !important; }` so we also need the `!important` here to be able to override the default hidden behavior on the sphinx rendered scikit-learn.org. See: https://github.com/scikit-learn/scikit-learn/issues/21755 */display: inline-block !important;position: relative;}#sk-container-id-1 div.sk-text-repr-fallback {display: none;}</style><div id=\"sk-container-id-1\" class=\"sk-top-container\"><div class=\"sk-text-repr-fallback\"><pre>RandomForestRegressor(random_state=42)</pre><b>In a Jupyter environment, please rerun this cell to show the HTML representation or trust the notebook. <br />On GitHub, the HTML representation is unable to render, please try loading this page with nbviewer.org.</b></div><div class=\"sk-container\" hidden><div class=\"sk-item\"><div class=\"sk-estimator sk-toggleable\"><input class=\"sk-toggleable__control sk-hidden--visually\" id=\"sk-estimator-id-1\" type=\"checkbox\" checked><label for=\"sk-estimator-id-1\" class=\"sk-toggleable__label sk-toggleable__label-arrow\">RandomForestRegressor</label><div class=\"sk-toggleable__content\"><pre>RandomForestRegressor(random_state=42)</pre></div></div></div></div></div>"
      ],
      "text/plain": [
       "RandomForestRegressor(random_state=42)"
      ]
     },
     "execution_count": 13,
     "metadata": {},
     "output_type": "execute_result"
    }
   ],
   "source": [
    "from sklearn.ensemble import RandomForestRegressor\n",
    "\n",
    "rf_reg = RandomForestRegressor(n_estimators=100, random_state=42)\n",
    "rf_reg.fit(X_train, y_train)\n"
   ]
  },
  {
   "cell_type": "code",
   "execution_count": 14,
   "id": "fe16af7d",
   "metadata": {
    "execution": {
     "iopub.execute_input": "2025-08-06T18:36:51.345570Z",
     "iopub.status.busy": "2025-08-06T18:36:51.345234Z",
     "iopub.status.idle": "2025-08-06T18:36:51.407113Z",
     "shell.execute_reply": "2025-08-06T18:36:51.405681Z"
    },
    "papermill": {
     "duration": 0.070467,
     "end_time": "2025-08-06T18:36:51.408863",
     "exception": false,
     "start_time": "2025-08-06T18:36:51.338396",
     "status": "completed"
    },
    "tags": []
   },
   "outputs": [
    {
     "name": "stdout",
     "output_type": "stream",
     "text": [
      "MAE: 1.0141411496869661\n",
      "MSE: 2.2027171701764376\n",
      "RMSE: 1.4841553726535635\n",
      "R^2: 0.9847903526154432\n"
     ]
    }
   ],
   "source": [
    "from sklearn.metrics import mean_squared_error, mean_absolute_error, r2_score\n",
    "\n",
    "y_pred = rf_reg.predict(X_test)\n",
    "print(\"MAE:\", mean_absolute_error(y_test, y_pred))\n",
    "print(\"MSE:\", mean_squared_error(y_test, y_pred))\n",
    "print(\"RMSE:\", mean_squared_error(y_test, y_pred, squared=False))\n",
    "print(\"R^2:\", r2_score(y_test, y_pred))\n"
   ]
  },
  {
   "cell_type": "code",
   "execution_count": 15,
   "id": "ca704d32",
   "metadata": {
    "execution": {
     "iopub.execute_input": "2025-08-06T18:36:51.421674Z",
     "iopub.status.busy": "2025-08-06T18:36:51.421363Z",
     "iopub.status.idle": "2025-08-06T18:36:51.934240Z",
     "shell.execute_reply": "2025-08-06T18:36:51.933294Z"
    },
    "papermill": {
     "duration": 0.521372,
     "end_time": "2025-08-06T18:36:51.936259",
     "exception": false,
     "start_time": "2025-08-06T18:36:51.414887",
     "status": "completed"
    },
    "tags": []
   },
   "outputs": [
    {
     "data": {
      "image/png": "[encoded data removed]",
      "text/plain": [
       "<Figure size 1000x600 with 1 Axes>"
      ]
     },
     "metadata": {},
     "output_type": "display_data"
    }
   ],
   "source": [
    "import matplotlib.pyplot as plt\n",
    "import numpy as np\n",
    "\n",
    "importances = rf_reg.feature_importances_\n",
    "indices = np.argsort(importances)[::-1]\n",
    "names = [feature_cols[i] for i in indices]\n",
    "\n",
    "plt.figure(figsize=(10,6))\n",
    "plt.bar(range(X.shape[1]), importances[indices])\n",
    "plt.xticks(range(X.shape[1]), names, rotation=90)\n",
    "plt.title('Feature Importances')\n",
    "plt.tight_layout()\n",
    "plt.show()\n"
   ]
  },
  {
   "cell_type": "markdown",
   "id": "4ea7f413",
   "metadata": {
    "papermill": {
     "duration": 0.006089,
     "end_time": "2025-08-06T18:36:51.949301",
     "exception": false,
     "start_time": "2025-08-06T18:36:51.943212",
     "status": "completed"
    },
    "tags": []
   },
   "source": [
    "* as we expected, month and time are the most crucial things in our dataset"
   ]
  }
 ],
 "metadata": {
  "kaggle": {
   "accelerator": "none",
   "dataSources": [
    {
     "datasetId": 7976026,
     "sourceId": 12623704,
     "sourceType": "datasetVersion"
    }
   ],
   "dockerImageVersionId": 31089,
   "isGpuEnabled": false,
   "isInternetEnabled": true,
   "language": "python",
   "sourceType": "notebook"
  },
  "kernelspec": {
   "display_name": "Python 3",
   "language": "python",
   "name": "python3"
  },
  "language_info": {
   "codemirror_mode": {
    "name": "ipython",
    "version": 3
   },
   "file_extension": ".py",
   "mimetype": "text/x-python",
   "name": "python",
   "nbconvert_exporter": "python",
   "pygments_lexer": "ipython3",
   "version": "3.11.13"
  },
  "papermill": {
   "default_parameters": {},
   "duration": 14.700294,
   "end_time": "2025-08-06T18:36:52.676642",
   "environment_variables": {},
   "exception": null,
   "input_path": "__notebook__.ipynb",
   "output_path": "__notebook__.ipynb",
   "parameters": {},
   "start_time": "2025-08-06T18:36:37.976348",
   "version": "2.6.0"
  }
 },
 "nbformat": 4,
 "nbformat_minor": 5
}
